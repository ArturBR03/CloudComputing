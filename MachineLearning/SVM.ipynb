{
 "cells": [
  {
   "cell_type": "markdown",
   "id": "f19a9e57",
   "metadata": {},
   "source": [
    "### Imports"
   ]
  },
  {
   "cell_type": "code",
   "execution_count": 141,
   "id": "f7c11232",
   "metadata": {},
   "outputs": [],
   "source": [
    "import cvxopt as cv\n",
    "import numpy as np\n",
    "import matplotlib.pyplot as plt"
   ]
  },
  {
   "cell_type": "markdown",
   "id": "2d24196b",
   "metadata": {},
   "source": [
    "### Initialize and visualize data"
   ]
  },
  {
   "cell_type": "code",
   "execution_count": 142,
   "id": "a24e64d4",
   "metadata": {},
   "outputs": [
    {
     "data": {
      "image/png": "[encoded data removed]",
      "text/plain": [
       "<Figure size 640x480 with 1 Axes>"
      ]
     },
     "metadata": {},
     "output_type": "display_data"
    }
   ],
   "source": [
    "def make_linear():\n",
    "    X = np.asarray([\n",
    "        [3.00, 1.00], [3.20, 2.20], [3.15, 4.80],\n",
    "        [3.35, 1.20], [3.05, 3.50], [3.55, 2.85],\n",
    "        [1.50, 2.25], [2.88, 2.18], [1.95, 4.00],\n",
    "        [3.01, 2.95], [2.85, 3.01], [5.85, 2.20],\n",
    "        [4.19, 4.00], [5.15, 3.50], [5.07, 2.89],\n",
    "        [4.87, 3.54], [4.44, 3.78], [4.48, 3.94],\n",
    "        [5.51, 3.80]\n",
    "    ])\n",
    "\n",
    "    y = np.asarray([\n",
    "        -1, -1, -1, -1, -1, -1, -1, -1, -1, -1, -1, 1,\n",
    "         1,  1,  1,  1,  1,  1,  1\n",
    "    ])\n",
    "\n",
    "    return X, y\n",
    "\n",
    "X, y = make_linear()\n",
    "\n",
    "plt.scatter(X[y == -1, 0], X[y == -1, 1], marker='x', label='Klasse -1')\n",
    "plt.scatter(X[y ==  1, 0], X[y ==  1, 1], marker='x', label='Klasse 1')\n",
    "plt.xlabel('x1')\n",
    "plt.ylabel('x2')\n",
    "plt.show()"
   ]
  },
  {
   "cell_type": "markdown",
   "id": "741162ea",
   "metadata": {},
   "source": [
    "### Setting up variables"
   ]
  },
  {
   "cell_type": "code",
   "execution_count": 143,
   "id": "25de57db",
   "metadata": {},
   "outputs": [],
   "source": [
    "n = X.shape[0]\n",
    "P = cv.matrix([[y[i] * y[j] * np.dot(X[i], X[j]) for i in range(n)] for j in range(n)])\n",
    "q = cv.matrix(np.ones(n))\n",
    "G = cv.matrix(-np.eye(n))\n",
    "h = cv.matrix(np.zeros(n))\n",
    "A = cv.matrix(y, (1, n), \"d\")\n",
    "b = cv.matrix(0.0)"
   ]
  },
  {
   "cell_type": "markdown",
   "id": "a95fa863",
   "metadata": {},
   "source": [
    "### Optimization"
   ]
  },
  {
   "cell_type": "code",
   "execution_count": 144,
   "id": "8da4c956",
   "metadata": {},
   "outputs": [
    {
     "name": "stdout",
     "output_type": "stream",
     "text": [
      "     pcost       dcost       gap    pres   dres\n",
      " 0: -3.7710e+00  7.1506e+00  6e+01  8e+00  2e+00\n",
      " 1:  8.6006e-01 -3.7810e-01  1e+01  2e+00  4e-01\n",
      " 2:  5.9307e-01 -1.3133e-01  7e-01  2e-16  3e-15\n",
      " 3:  5.7323e-02 -3.0803e-03  6e-02  1e-17  1e-15\n",
      " 4:  1.3901e-03 -2.6437e-06  1e-03  2e-18  4e-16\n",
      " 5:  1.3919e-05 -2.6628e-10  1e-05  6e-20  4e-16\n",
      " 6:  1.3919e-07 -2.6628e-14  1e-07  1e-21  5e-16\n",
      " 7:  1.3919e-09 -2.6628e-18  1e-09  2e-23  3e-16\n",
      "Optimal solution found.\n",
      "[2.62533913e-11 2.55367852e-11 4.58645434e-12 2.84262320e-11\n",
      " 1.84372260e-11 1.03073256e-11 4.88683093e-10 3.04242466e-11\n",
      " 1.01288679e-11 2.47378078e-11 2.84225104e-11 1.08311053e-10\n",
      " 4.54456369e-11 1.07595435e-10 9.03297815e-11 9.04265709e-11\n",
      " 6.03828534e-11 6.83346390e-11 1.25117971e-10]\n"
     ]
    }
   ],
   "source": [
    "sol = cv.solvers.qp(P, q, G, h, A, b)\n",
    "alphas = np.squeeze(np.array(sol[\"x\"]))\n",
    "print(alphas)"
   ]
  },
  {
   "cell_type": "markdown",
   "id": "27a1d819",
   "metadata": {},
   "source": [
    "### SVM "
   ]
  },
  {
   "cell_type": "code",
   "execution_count": 145,
   "id": "21c3cbc7",
   "metadata": {},
   "outputs": [
    {
     "name": "stdout",
     "output_type": "stream",
     "text": [
      "[2.18130147e-09 7.53375444e-10] 0.49999999487572255\n"
     ]
    }
   ],
   "source": [
    "w = np.sum((alphas*y)[:, None] * X, axis=0)\n",
    "S = np.where(alphas > 1e-10)[0]\n",
    "\n",
    "b_sum = 0\n",
    "\n",
    "for i in S:\n",
    "    inner = np.sum(alphas[S] * y[S] * np.dot(X[i], X[S].T))\n",
    "    b_sum += y[i] - inner\n",
    "b = b_sum / len(S)\n",
    "\n",
    "print(w, b)"
   ]
  },
  {
   "cell_type": "markdown",
   "id": "8f8d8125",
   "metadata": {},
   "source": [
    "### Plot the result"
   ]
  },
  {
   "cell_type": "code",
   "execution_count": null,
   "id": "8d165158",
   "metadata": {},
   "outputs": [],
   "source": []
  }
 ],
 "metadata": {
  "kernelspec": {
   "display_name": ".venv",
   "language": "python",
   "name": "python3"
  },
  "language_info": {
   "codemirror_mode": {
    "name": "ipython",
    "version": 3
   },
   "file_extension": ".py",
   "mimetype": "text/x-python",
   "name": "python",
   "nbconvert_exporter": "python",
   "pygments_lexer": "ipython3",
   "version": "3.12.10"
  }
 },
 "nbformat": 4,
 "nbformat_minor": 5
}
